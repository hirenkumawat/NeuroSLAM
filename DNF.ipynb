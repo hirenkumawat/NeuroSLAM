{
 "cells": [
  {
   "cell_type": "markdown",
   "id": "2d1f83f4",
   "metadata": {},
   "source": [
    "### Experimenting with Dynamic Neural Fields"
   ]
  },
  {
   "cell_type": "code",
   "execution_count": 1,
   "id": "c8096747",
   "metadata": {},
   "outputs": [
    {
     "ename": "NameError",
     "evalue": "name 'xrange' is not defined",
     "output_type": "error",
     "traceback": [
      "\u001b[0;31m---------------------------------------------------------------------------\u001b[0m",
      "\u001b[0;31mNameError\u001b[0m                                 Traceback (most recent call last)",
      "Cell \u001b[0;32mIn[1], line 1\u001b[0m\n\u001b[0;32m----> 1\u001b[0m \u001b[38;5;28;01mimport\u001b[39;00m \u001b[38;5;21;01mratslam\u001b[39;00m\n",
      "File \u001b[0;32m~/Documents/rg-slam/src/ratslam/__init__.py:4\u001b[0m\n\u001b[1;32m      1\u001b[0m __version__ \u001b[38;5;241m=\u001b[39m \u001b[38;5;124m\"\u001b[39m\u001b[38;5;124m0.1\u001b[39m\u001b[38;5;124m\"\u001b[39m\n\u001b[1;32m      3\u001b[0m \u001b[38;5;28;01mfrom\u001b[39;00m \u001b[38;5;21;01m.\u001b[39;00m\u001b[38;5;21;01mvision\u001b[39;00m \u001b[38;5;28;01mimport\u001b[39;00m \u001b[38;5;241m*\u001b[39m\n\u001b[0;32m----> 4\u001b[0m \u001b[38;5;28;01mfrom\u001b[39;00m \u001b[38;5;21;01m.\u001b[39;00m\u001b[38;5;21;01mexperience_map\u001b[39;00m \u001b[38;5;28;01mimport\u001b[39;00m \u001b[38;5;241m*\u001b[39m\n\u001b[1;32m      5\u001b[0m \u001b[38;5;28;01mfrom\u001b[39;00m \u001b[38;5;21;01m.\u001b[39;00m\u001b[38;5;21;01mpose_cells\u001b[39;00m \u001b[38;5;28;01mimport\u001b[39;00m \u001b[38;5;241m*\u001b[39m\n\u001b[1;32m      6\u001b[0m \u001b[38;5;28;01mfrom\u001b[39;00m \u001b[38;5;21;01m.\u001b[39;00m\u001b[38;5;21;01mview_cells\u001b[39;00m \u001b[38;5;28;01mimport\u001b[39;00m \u001b[38;5;241m*\u001b[39m\n",
      "File \u001b[0;32m~/Documents/rg-slam/src/ratslam/experience_map.py:14\u001b[0m\n\u001b[1;32m     11\u001b[0m \u001b[38;5;28;01mfrom\u001b[39;00m \u001b[38;5;21;01mlava\u001b[39;00m\u001b[38;5;21;01m.\u001b[39;00m\u001b[38;5;21;01mmagma\u001b[39;00m\u001b[38;5;21;01m.\u001b[39;00m\u001b[38;5;21;01mcore\u001b[39;00m\u001b[38;5;21;01m.\u001b[39;00m\u001b[38;5;21;01msync\u001b[39;00m\u001b[38;5;21;01m.\u001b[39;00m\u001b[38;5;21;01mprotocols\u001b[39;00m\u001b[38;5;21;01m.\u001b[39;00m\u001b[38;5;21;01mloihi_protocol\u001b[39;00m \u001b[38;5;28;01mimport\u001b[39;00m LoihiProtocol\n\u001b[1;32m     13\u001b[0m \u001b[38;5;28;01mfrom\u001b[39;00m \u001b[38;5;21;01mratslam\u001b[39;00m\u001b[38;5;21;01m.\u001b[39;00m\u001b[38;5;21;01mutil\u001b[39;00m \u001b[38;5;28;01mimport\u001b[39;00m \u001b[38;5;241m*\u001b[39m\n\u001b[0;32m---> 14\u001b[0m \u001b[38;5;28;01mfrom\u001b[39;00m \u001b[38;5;21;01mratslam\u001b[39;00m\u001b[38;5;21;01m.\u001b[39;00m\u001b[38;5;21;01mconstants\u001b[39;00m \u001b[38;5;28;01mimport\u001b[39;00m \u001b[38;5;241m*\u001b[39m\n\u001b[1;32m     16\u001b[0m \u001b[38;5;28;01mclass\u001b[39;00m \u001b[38;5;21;01mExperience\u001b[39;00m(\u001b[38;5;28mobject\u001b[39m):\n\u001b[1;32m     17\u001b[0m \u001b[38;5;250m    \u001b[39m\u001b[38;5;124;03m'''A single experience.\u001b[39;00m\n\u001b[1;32m     18\u001b[0m \u001b[38;5;124;03m    An Experience object is used to point out a single point in the experience\u001b[39;00m\n\u001b[1;32m     19\u001b[0m \u001b[38;5;124;03m    map, Thus, it must store its position in the map and activation of pose and\u001b[39;00m\n\u001b[1;32m     20\u001b[0m \u001b[38;5;124;03m    view cell modules.\u001b[39;00m\n\u001b[1;32m     21\u001b[0m \u001b[38;5;124;03m    '''\u001b[39;00m\n",
      "File \u001b[0;32m~/Documents/rg-slam/src/ratslam/constants.py:117\u001b[0m\n\u001b[1;32m    115\u001b[0m PC_W_I_DIM              \u001b[38;5;241m=\u001b[39m \u001b[38;5;241m5\u001b[39m\n\u001b[1;32m    116\u001b[0m PC_GLOBAL_INHIB         \u001b[38;5;241m=\u001b[39m \u001b[38;5;241m0.00002\u001b[39m\n\u001b[0;32m--> 117\u001b[0m PC_W_EXCITE             \u001b[38;5;241m=\u001b[39m \u001b[43mcreate_pc_weights\u001b[49m\u001b[43m(\u001b[49m\u001b[43mPC_W_E_DIM\u001b[49m\u001b[43m,\u001b[49m\u001b[43m \u001b[49m\u001b[43mPC_W_E_VAR\u001b[49m\u001b[43m)\u001b[49m\n\u001b[1;32m    118\u001b[0m PC_W_INHIB              \u001b[38;5;241m=\u001b[39m create_pc_weights(PC_W_I_DIM, PC_W_I_VAR)\n\u001b[1;32m    119\u001b[0m PC_W_E_DIM_HALF         \u001b[38;5;241m=\u001b[39m \u001b[38;5;28mint\u001b[39m(np\u001b[38;5;241m.\u001b[39mfloor(PC_W_E_DIM\u001b[38;5;241m/\u001b[39m\u001b[38;5;241m2.\u001b[39m))\n",
      "File \u001b[0;32m~/Documents/rg-slam/src/ratslam/constants.py:70\u001b[0m, in \u001b[0;36mcreate_pc_weights\u001b[0;34m(dim, var)\u001b[0m\n\u001b[1;32m     67\u001b[0m dim_center \u001b[38;5;241m=\u001b[39m \u001b[38;5;28mint\u001b[39m(np\u001b[38;5;241m.\u001b[39mfloor(dim\u001b[38;5;241m/\u001b[39m\u001b[38;5;241m2.\u001b[39m))\n\u001b[1;32m     69\u001b[0m weight \u001b[38;5;241m=\u001b[39m np\u001b[38;5;241m.\u001b[39mzeros([dim, dim, dim])\n\u001b[0;32m---> 70\u001b[0m \u001b[38;5;28;01mfor\u001b[39;00m x, y, z \u001b[38;5;129;01min\u001b[39;00m itertools\u001b[38;5;241m.\u001b[39mproduct(\u001b[43mxrange\u001b[49m(dim), xrange(dim), xrange(dim)):\n\u001b[1;32m     71\u001b[0m     dx \u001b[38;5;241m=\u001b[39m \u001b[38;5;241m-\u001b[39m(x\u001b[38;5;241m-\u001b[39mdim_center)\u001b[38;5;241m*\u001b[39m\u001b[38;5;241m*\u001b[39m\u001b[38;5;241m2\u001b[39m\n\u001b[1;32m     72\u001b[0m     dy \u001b[38;5;241m=\u001b[39m \u001b[38;5;241m-\u001b[39m(y\u001b[38;5;241m-\u001b[39mdim_center)\u001b[38;5;241m*\u001b[39m\u001b[38;5;241m*\u001b[39m\u001b[38;5;241m2\u001b[39m\n",
      "\u001b[0;31mNameError\u001b[0m: name 'xrange' is not defined"
     ]
    }
   ],
   "source": [
    "import ratslam"
   ]
  },
  {
   "cell_type": "code",
   "execution_count": 2,
   "id": "6eec55a6",
   "metadata": {},
   "outputs": [],
   "source": [
    "# Lava\n",
    "from lava.proc.lif.process import LIF\n",
    "from lava.lib.dnf.kernels.kernels import SelectiveKernel\n",
    "from lava.lib.dnf.connect.connect import connect\n",
    "from lava.lib.dnf.operations.operations import Convolution"
   ]
  },
  {
   "cell_type": "code",
   "execution_count": 3,
   "id": "fb88fb4e",
   "metadata": {},
   "outputs": [],
   "source": [
    "import lava"
   ]
  },
  {
   "cell_type": "code",
   "execution_count": 4,
   "id": "9983e6bd",
   "metadata": {},
   "outputs": [
    {
     "name": "stdout",
     "output_type": "stream",
     "text": [
      "Help on package lava:\n",
      "\n",
      "NAME\n",
      "    lava\n",
      "\n",
      "PACKAGE CONTENTS\n",
      "\n",
      "\n",
      "SUBMODULES\n",
      "    lib\n",
      "    magma\n",
      "    proc\n",
      "    utils\n",
      "\n",
      "FILE\n",
      "    (built-in)\n",
      "\n",
      "\n"
     ]
    }
   ],
   "source": [
    "help(lava)"
   ]
  },
  {
   "cell_type": "code",
   "execution_count": 5,
   "id": "4b62b0ca",
   "metadata": {},
   "outputs": [
    {
     "data": {
      "text/plain": [
       "<lava.proc.dense.process.Dense at 0x7f96400a28c0>"
      ]
     },
     "execution_count": 5,
     "metadata": {},
     "output_type": "execute_result"
    }
   ],
   "source": [
    "# Create a population of 20x20 spiking neurons.\n",
    "dnf = LIF(shape=(20, 20))\n",
    "\n",
    "# Create a selective kernel.\n",
    "kernel = SelectiveKernel(amp_exc=18, width_exc=[4, 4], global_inh=-15)\n",
    "\n",
    "# Apply the kernel to the population to create a DNF with a selective\n",
    "# regime.\n",
    "connect(dnf.s_out, dnf.a_in, [Convolution(kernel)])"
   ]
  },
  {
   "cell_type": "code",
   "execution_count": null,
   "id": "5c954ab3",
   "metadata": {},
   "outputs": [],
   "source": []
  }
 ],
 "metadata": {
  "kernelspec": {
   "display_name": "Python 3 (ipykernel)",
   "language": "python",
   "name": "python3"
  },
  "language_info": {
   "codemirror_mode": {
    "name": "ipython",
    "version": 3
   },
   "file_extension": ".py",
   "mimetype": "text/x-python",
   "name": "python",
   "nbconvert_exporter": "python",
   "pygments_lexer": "ipython3",
   "version": "3.10.10"
  },
  "vscode": {
   "interpreter": {
    "hash": "4d88adc647c295d081e2678c7d6a34d95b7c599dd2c23c84a9cb96d04d7ad4df"
   }
  }
 },
 "nbformat": 4,
 "nbformat_minor": 5
}
