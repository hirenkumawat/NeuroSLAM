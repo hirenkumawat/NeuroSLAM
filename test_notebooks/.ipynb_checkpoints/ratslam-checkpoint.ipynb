{
 "cells": [
  {
   "cell_type": "code",
   "execution_count": 1,
   "metadata": {},
   "outputs": [
    {
     "ename": "ModuleNotFoundError",
     "evalue": "No module named 'ratslam'",
     "output_type": "error",
     "traceback": [
      "\u001b[0;31m---------------------------------------------------------------------------\u001b[0m",
      "\u001b[0;31mModuleNotFoundError\u001b[0m                       Traceback (most recent call last)",
      "Cell \u001b[0;32mIn[1], line 4\u001b[0m\n\u001b[1;32m      1\u001b[0m get_ipython()\u001b[38;5;241m.\u001b[39mrun_line_magic(\u001b[38;5;124m'\u001b[39m\u001b[38;5;124mload_ext\u001b[39m\u001b[38;5;124m'\u001b[39m, \u001b[38;5;124m'\u001b[39m\u001b[38;5;124mautoreload\u001b[39m\u001b[38;5;124m'\u001b[39m)\n\u001b[1;32m      2\u001b[0m get_ipython()\u001b[38;5;241m.\u001b[39mrun_line_magic(\u001b[38;5;124m'\u001b[39m\u001b[38;5;124mautoreload\u001b[39m\u001b[38;5;124m'\u001b[39m, \u001b[38;5;124m'\u001b[39m\u001b[38;5;124m2\u001b[39m\u001b[38;5;124m'\u001b[39m)\n\u001b[0;32m----> 4\u001b[0m \u001b[38;5;28;01mimport\u001b[39;00m \u001b[38;5;21;01mratslam\u001b[39;00m\n\u001b[1;32m      5\u001b[0m \u001b[38;5;28;01mimport\u001b[39;00m \u001b[38;5;21;01mconfigparser\u001b[39;00m\n",
      "\u001b[0;31mModuleNotFoundError\u001b[0m: No module named 'ratslam'"
     ]
    }
   ],
   "source": [
    "%load_ext autoreload\n",
    "%autoreload 2\n",
    "\n",
    "import ratslam\n",
    "import configparser"
   ]
  },
  {
   "cell_type": "code",
   "execution_count": 2,
   "metadata": {},
   "outputs": [],
   "source": [
    "video_path = './data/oxford_newcollege_sample.mp4'\n",
    "config_path = './data/oxford_newcollege.ini'"
   ]
  },
  {
   "cell_type": "code",
   "execution_count": 3,
   "metadata": {},
   "outputs": [
    {
     "data": {
      "text/plain": [
       "['./data/oxford_newcollege.ini']"
      ]
     },
     "execution_count": 3,
     "metadata": {},
     "output_type": "execute_result"
    }
   ],
   "source": [
    "config = configparser.ConfigParser()\n",
    "config.read(config_path)"
   ]
  },
  {
   "cell_type": "code",
   "execution_count": 4,
   "metadata": {},
   "outputs": [],
   "source": [
    "video_width = int(config['vision']['video_width'])\n",
    "video_height = int(config['vision']['video_height'])\n",
    "video_shape=(video_height, video_width)\n",
    "\n",
    "image_generator = ratslam.ImageGenerator(video_shape, video_path=video_path)\n",
    "visual_odometry = ratslam.VisualOdometry(video_shape)\n",
    "view_cells = ratslam.ViewCells(video_shape)\n",
    "pose_cells = ratslam.PoseCells()\n",
    "experience_map = ratslam.ExperienceMap()\n",
    "\n",
    "# connect the processes\n",
    "image_generator.img_out.connect(visual_odometry.img_in)\n",
    "image_generator.img_out.connect(view_cells.img_in)\n",
    "\n",
    "visual_odometry.vtrans_vrot_out.connect(pose_cells.vtrans_vrot_in)\n",
    "visual_odometry.vtrans_vrot_out.connect(experience_map.vtrans_vrot_in)\n",
    "\n",
    "view_cells.cell_out.connect(pose_cells.cell_in)\n",
    "view_cells.cell_out.connect(experience_map.cell_in)\n",
    "\n",
    "pose_cells.pose_out.connect(view_cells.pose_in)\n",
    "pose_cells.pose_out.connect(experience_map.pose_in)"
   ]
  },
  {
   "cell_type": "code",
   "execution_count": 5,
   "metadata": {},
   "outputs": [
    {
     "ename": "KeyboardInterrupt",
     "evalue": "",
     "output_type": "error",
     "traceback": [
      "\u001b[0;31m---------------------------------------------------------------------------\u001b[0m",
      "\u001b[0;31mKeyboardInterrupt\u001b[0m                         Traceback (most recent call last)",
      "Cell \u001b[0;32mIn[5], line 7\u001b[0m\n\u001b[1;32m      4\u001b[0m run_cfg \u001b[39m=\u001b[39m Loihi1SimCfg(select_tag\u001b[39m=\u001b[39m\u001b[39m\"\u001b[39m\u001b[39mfloating_pt\u001b[39m\u001b[39m\"\u001b[39m)\n\u001b[1;32m      5\u001b[0m run_condition \u001b[39m=\u001b[39m RunSteps(num_steps\u001b[39m=\u001b[39m\u001b[39m8000\u001b[39m)\n\u001b[0;32m----> 7\u001b[0m image_generator\u001b[39m.\u001b[39;49mrun(condition\u001b[39m=\u001b[39;49mrun_condition, run_cfg\u001b[39m=\u001b[39;49mrun_cfg)\n",
      "File \u001b[0;32m/opt/homebrew/Caskroom/miniforge/base/envs/ratslam/src/lava/src/lava/magma/core/process/process.py:349\u001b[0m, in \u001b[0;36mAbstractProcess.run\u001b[0;34m(self, condition, run_cfg, compile_config)\u001b[0m\n\u001b[1;32m    346\u001b[0m     executable\u001b[39m.\u001b[39massign_runtime_to_all_processes(\u001b[39mself\u001b[39m\u001b[39m.\u001b[39m_runtime)\n\u001b[1;32m    347\u001b[0m     \u001b[39mself\u001b[39m\u001b[39m.\u001b[39m_runtime\u001b[39m.\u001b[39minitialize()\n\u001b[0;32m--> 349\u001b[0m \u001b[39mself\u001b[39;49m\u001b[39m.\u001b[39;49m_runtime\u001b[39m.\u001b[39;49mstart(condition)\n",
      "File \u001b[0;32m/opt/homebrew/Caskroom/miniforge/base/envs/ratslam/src/lava/src/lava/magma/runtime/runtime.py:311\u001b[0m, in \u001b[0;36mRuntime.start\u001b[0;34m(self, run_condition)\u001b[0m\n\u001b[1;32m    308\u001b[0m \u001b[39mif\u001b[39;00m \u001b[39mself\u001b[39m\u001b[39m.\u001b[39m_is_initialized:\n\u001b[1;32m    309\u001b[0m     \u001b[39m# Start running\u001b[39;00m\n\u001b[1;32m    310\u001b[0m     \u001b[39mself\u001b[39m\u001b[39m.\u001b[39m_is_started \u001b[39m=\u001b[39m \u001b[39mTrue\u001b[39;00m\n\u001b[0;32m--> 311\u001b[0m     \u001b[39mself\u001b[39;49m\u001b[39m.\u001b[39;49m_run(run_condition)\n\u001b[1;32m    312\u001b[0m \u001b[39melse\u001b[39;00m:\n\u001b[1;32m    313\u001b[0m     \u001b[39mself\u001b[39m\u001b[39m.\u001b[39mlog\u001b[39m.\u001b[39minfo(\u001b[39m\"\u001b[39m\u001b[39mRuntime not initialized yet.\u001b[39m\u001b[39m\"\u001b[39m)\n",
      "File \u001b[0;32m/opt/homebrew/Caskroom/miniforge/base/envs/ratslam/src/lava/src/lava/magma/runtime/runtime.py:329\u001b[0m, in \u001b[0;36mRuntime._run\u001b[0;34m(self, run_condition)\u001b[0m\n\u001b[1;32m    327\u001b[0m         send_port\u001b[39m.\u001b[39msend(enum_to_np(\u001b[39mself\u001b[39m\u001b[39m.\u001b[39mnum_steps))\n\u001b[1;32m    328\u001b[0m     \u001b[39mif\u001b[39;00m run_condition\u001b[39m.\u001b[39mblocking:\n\u001b[0;32m--> 329\u001b[0m         \u001b[39mself\u001b[39;49m\u001b[39m.\u001b[39;49m_get_resp_for_run()\n\u001b[1;32m    330\u001b[0m \u001b[39melif\u001b[39;00m \u001b[39misinstance\u001b[39m(run_condition, RunContinuous):\n\u001b[1;32m    331\u001b[0m     \u001b[39mself\u001b[39m\u001b[39m.\u001b[39mnum_steps \u001b[39m=\u001b[39m sys\u001b[39m.\u001b[39mmaxsize\n",
      "File \u001b[0;32m/opt/homebrew/Caskroom/miniforge/base/envs/ratslam/src/lava/src/lava/magma/runtime/runtime.py:272\u001b[0m, in \u001b[0;36mRuntime._get_resp_for_run\u001b[0;34m(self)\u001b[0m\n\u001b[1;32m    270\u001b[0m rsps \u001b[39m=\u001b[39m []\n\u001b[1;32m    271\u001b[0m \u001b[39mwhile\u001b[39;00m \u001b[39mTrue\u001b[39;00m:\n\u001b[0;32m--> 272\u001b[0m     recv_port \u001b[39m=\u001b[39m selector\u001b[39m.\u001b[39;49mselect(\u001b[39m*\u001b[39;49mchannel_actions)\n\u001b[1;32m    273\u001b[0m     data \u001b[39m=\u001b[39m recv_port\u001b[39m.\u001b[39mrecv()\n\u001b[1;32m    274\u001b[0m     rsps\u001b[39m.\u001b[39mappend(data)\n",
      "File \u001b[0;32m/opt/homebrew/Caskroom/miniforge/base/envs/ratslam/src/lava/src/lava/magma/compiler/channels/pypychannel.py:318\u001b[0m, in \u001b[0;36mCspSelector.select\u001b[0;34m(self, *args)\u001b[0m\n\u001b[1;32m    316\u001b[0m         \u001b[39mself\u001b[39m\u001b[39m.\u001b[39m_set_observer(args, \u001b[39mNone\u001b[39;00m)\n\u001b[1;32m    317\u001b[0m         \u001b[39mreturn\u001b[39;00m action()\n\u001b[0;32m--> 318\u001b[0m \u001b[39mself\u001b[39;49m\u001b[39m.\u001b[39;49m_cv\u001b[39m.\u001b[39;49mwait()\n",
      "File \u001b[0;32m/opt/homebrew/Caskroom/miniforge/base/envs/ratslam/lib/python3.10/threading.py:320\u001b[0m, in \u001b[0;36mCondition.wait\u001b[0;34m(self, timeout)\u001b[0m\n\u001b[1;32m    318\u001b[0m \u001b[39mtry\u001b[39;00m:    \u001b[39m# restore state no matter what (e.g., KeyboardInterrupt)\u001b[39;00m\n\u001b[1;32m    319\u001b[0m     \u001b[39mif\u001b[39;00m timeout \u001b[39mis\u001b[39;00m \u001b[39mNone\u001b[39;00m:\n\u001b[0;32m--> 320\u001b[0m         waiter\u001b[39m.\u001b[39;49macquire()\n\u001b[1;32m    321\u001b[0m         gotit \u001b[39m=\u001b[39m \u001b[39mTrue\u001b[39;00m\n\u001b[1;32m    322\u001b[0m     \u001b[39melse\u001b[39;00m:\n",
      "\u001b[0;31mKeyboardInterrupt\u001b[0m: "
     ]
    }
   ],
   "source": [
    "from lava.magma.core.run_conditions import RunSteps, RunContinuous\n",
    "from lava.magma.core.run_configs import Loihi1SimCfg\n",
    "\n",
    "run_cfg = Loihi1SimCfg(select_tag=\"floating_pt\")\n",
    "run_condition = RunSteps(num_steps=8000)\n",
    "\n",
    "image_generator.run(condition=run_condition, run_cfg=run_cfg)"
   ]
  },
  {
   "cell_type": "code",
   "execution_count": null,
   "metadata": {},
   "outputs": [
    {
     "name": "stdout",
     "output_type": "stream",
     "text": [
      "Help on package ratslam:\n",
      "\n",
      "NAME\n",
      "    ratslam\n",
      "\n",
      "PACKAGE CONTENTS\n",
      "    experience_map\n",
      "    pose_cells\n",
      "    view_cells\n",
      "    vision\n",
      "    visual_odometry\n",
      "\n",
      "DATA\n",
      "    List = typing.List\n",
      "        A generic version of list.\n",
      "    \n",
      "    Tuple = typing.Tuple\n",
      "        Tuple type; Tuple[X, Y] is the cross-product type of X and Y.\n",
      "        \n",
      "        Example: Tuple[T1, T2] is a tuple of two elements corresponding\n",
      "        to type variables T1 and T2.  Tuple[int, float, str] is a tuple\n",
      "        of an int, a float and a string.\n",
      "        \n",
      "        To specify a variable-length tuple of homogeneous type, use Tuple[T, ...].\n",
      "\n",
      "VERSION\n",
      "    0.1\n",
      "\n",
      "FILE\n",
      "    /Users/kartik/Documents/GitHub/rg-slam/src/ratslam/__init__.py\n",
      "\n",
      "\n"
     ]
    }
   ],
   "source": []
  },
  {
   "cell_type": "code",
   "execution_count": null,
   "metadata": {},
   "outputs": [],
   "source": []
  }
 ],
 "metadata": {
  "kernelspec": {
   "display_name": "Python 3 (ipykernel)",
   "language": "python",
   "name": "python3"
  },
  "language_info": {
   "codemirror_mode": {
    "name": "ipython",
    "version": 3
   },
   "file_extension": ".py",
   "mimetype": "text/x-python",
   "name": "python",
   "nbconvert_exporter": "python",
   "pygments_lexer": "ipython3",
   "version": "3.10.10"
  },
  "vscode": {
   "interpreter": {
    "hash": "4d88adc647c295d081e2678c7d6a34d95b7c599dd2c23c84a9cb96d04d7ad4df"
   }
  }
 },
 "nbformat": 4,
 "nbformat_minor": 2
}
