{
 "cells": [
  {
   "cell_type": "code",
   "execution_count": 1,
   "metadata": {},
   "outputs": [],
   "source": [
    "%load_ext autoreload\n",
    "%autoreload 2\n",
    "import sys\n",
    "\n",
    "sys.path.insert(0, './src')\n",
    "import ratslam\n",
    "import configparser"
   ]
  },
  {
   "cell_type": "code",
   "execution_count": 2,
   "metadata": {},
   "outputs": [],
   "source": [
    "video_path = './data/oxford_newcollege_sample.mp4'\n",
    "config_path = './data/oxford_newcollege.ini'"
   ]
  },
  {
   "cell_type": "code",
   "execution_count": 3,
   "metadata": {},
   "outputs": [
    {
     "data": {
      "text/plain": [
       "['./data/oxford_newcollege.ini']"
      ]
     },
     "execution_count": 3,
     "metadata": {},
     "output_type": "execute_result"
    }
   ],
   "source": [
    "config = configparser.ConfigParser()\n",
    "config.read(config_path)"
   ]
  },
  {
   "cell_type": "code",
   "execution_count": 4,
   "metadata": {},
   "outputs": [],
   "source": [
    "video_width = int(config['vision']['video_width'])\n",
    "video_height = int(config['vision']['video_height'])\n",
    "video_shape=(video_height, video_width)\n",
    "\n",
    "image_generator = ratslam.ImageGenerator(video_shape, video_path=video_path)\n",
    "visual_odometry = ratslam.VisualOdometry(video_shape)\n",
    "view_cells = ratslam.ViewCells(video_shape)\n",
    "pose_cells = ratslam.PoseCells()\n",
    "experience_map = ratslam.ExperienceMap()\n",
    "\n",
    "# connect the processes\n",
    "image_generator.img_out.connect(visual_odometry.img_in)\n",
    "image_generator.img_out.connect(view_cells.img_in)\n",
    "\n",
    "visual_odometry.vtrans_vrot_out.connect(pose_cells.vtrans_vrot_in)\n",
    "visual_odometry.vtrans_vrot_out.connect(experience_map.vtrans_vrot_in)\n",
    "\n",
    "view_cells.cell_out.connect(pose_cells.cell_in)\n",
    "view_cells.cell_out.connect(experience_map.cell_in)\n",
    "\n",
    "pose_cells.pose_out.connect(view_cells.pose_in)\n",
    "pose_cells.pose_out.connect(experience_map.pose_in)"
   ]
  },
  {
   "cell_type": "code",
   "execution_count": 5,
   "metadata": {},
   "outputs": [
    {
     "name": "stderr",
     "output_type": "stream",
     "text": [
      "Process SystemProcess-4:\n",
      "Process SystemProcess-3:\n",
      "Process SystemProcess-2:\n",
      "Process SystemProcess-6:\n",
      "Process SystemProcess-5:\n",
      "Process SystemProcess-7:\n",
      "Traceback (most recent call last):\n",
      "Traceback (most recent call last):\n",
      "Traceback (most recent call last):\n",
      "Traceback (most recent call last):\n",
      "Traceback (most recent call last):\n",
      "  File \"/home/hiren/miniconda3/envs/ratslam/lib/python3.10/multiprocessing/process.py\", line 314, in _bootstrap\n",
      "    self.run()\n"
     ]
    },
    {
     "ename": "KeyboardInterrupt",
     "evalue": "",
     "output_type": "error",
     "traceback": [
      "\u001b[0;31m---------------------------------------------------------------------------\u001b[0m",
      "\u001b[0;31mKeyboardInterrupt\u001b[0m                         Traceback (most recent call last)",
      "Cell \u001b[0;32mIn[5], line 7\u001b[0m\n\u001b[1;32m      4\u001b[0m run_cfg \u001b[38;5;241m=\u001b[39m Loihi1SimCfg(select_tag\u001b[38;5;241m=\u001b[39m\u001b[38;5;124m\"\u001b[39m\u001b[38;5;124mfloating_pt\u001b[39m\u001b[38;5;124m\"\u001b[39m)\n\u001b[1;32m      5\u001b[0m run_condition \u001b[38;5;241m=\u001b[39m RunSteps(num_steps\u001b[38;5;241m=\u001b[39m\u001b[38;5;241m8000\u001b[39m)\n\u001b[0;32m----> 7\u001b[0m \u001b[43mimage_generator\u001b[49m\u001b[38;5;241;43m.\u001b[39;49m\u001b[43mrun\u001b[49m\u001b[43m(\u001b[49m\u001b[43mcondition\u001b[49m\u001b[38;5;241;43m=\u001b[39;49m\u001b[43mrun_condition\u001b[49m\u001b[43m,\u001b[49m\u001b[43m \u001b[49m\u001b[43mrun_cfg\u001b[49m\u001b[38;5;241;43m=\u001b[39;49m\u001b[43mrun_cfg\u001b[49m\u001b[43m)\u001b[49m\n",
      "File \u001b[0;32m~/miniconda3/envs/ratslam/src/lava/src/lava/magma/core/process/process.py:357\u001b[0m, in \u001b[0;36mAbstractProcess.run\u001b[0;34m(self, condition, run_cfg, compile_config)\u001b[0m\n\u001b[1;32m    354\u001b[0m     executable\u001b[38;5;241m.\u001b[39massign_runtime_to_all_processes(\u001b[38;5;28mself\u001b[39m\u001b[38;5;241m.\u001b[39m_runtime)\n\u001b[1;32m    355\u001b[0m     \u001b[38;5;28mself\u001b[39m\u001b[38;5;241m.\u001b[39m_runtime\u001b[38;5;241m.\u001b[39minitialize()\n\u001b[0;32m--> 357\u001b[0m \u001b[38;5;28;43mself\u001b[39;49m\u001b[38;5;241;43m.\u001b[39;49m\u001b[43m_runtime\u001b[49m\u001b[38;5;241;43m.\u001b[39;49m\u001b[43mstart\u001b[49m\u001b[43m(\u001b[49m\u001b[43mcondition\u001b[49m\u001b[43m)\u001b[49m\n",
      "File \u001b[0;32m~/miniconda3/envs/ratslam/src/lava/src/lava/magma/runtime/runtime.py:321\u001b[0m, in \u001b[0;36mRuntime.start\u001b[0;34m(self, run_condition)\u001b[0m\n\u001b[1;32m    318\u001b[0m \u001b[38;5;28;01mif\u001b[39;00m \u001b[38;5;28mself\u001b[39m\u001b[38;5;241m.\u001b[39m_is_initialized:\n\u001b[1;32m    319\u001b[0m     \u001b[38;5;66;03m# Start running\u001b[39;00m\n\u001b[1;32m    320\u001b[0m     \u001b[38;5;28mself\u001b[39m\u001b[38;5;241m.\u001b[39m_is_started \u001b[38;5;241m=\u001b[39m \u001b[38;5;28;01mTrue\u001b[39;00m\n\u001b[0;32m--> 321\u001b[0m     \u001b[38;5;28;43mself\u001b[39;49m\u001b[38;5;241;43m.\u001b[39;49m\u001b[43m_run\u001b[49m\u001b[43m(\u001b[49m\u001b[43mrun_condition\u001b[49m\u001b[43m)\u001b[49m\n\u001b[1;32m    322\u001b[0m \u001b[38;5;28;01melse\u001b[39;00m:\n\u001b[1;32m    323\u001b[0m     \u001b[38;5;28mself\u001b[39m\u001b[38;5;241m.\u001b[39mlog\u001b[38;5;241m.\u001b[39minfo(\u001b[38;5;124m\"\u001b[39m\u001b[38;5;124mRuntime not initialized yet.\u001b[39m\u001b[38;5;124m\"\u001b[39m)\n",
      "File \u001b[0;32m~/miniconda3/envs/ratslam/src/lava/src/lava/magma/runtime/runtime.py:339\u001b[0m, in \u001b[0;36mRuntime._run\u001b[0;34m(self, run_condition)\u001b[0m\n\u001b[1;32m    337\u001b[0m         send_port\u001b[38;5;241m.\u001b[39msend(enum_to_np(\u001b[38;5;28mself\u001b[39m\u001b[38;5;241m.\u001b[39mnum_steps))\n\u001b[1;32m    338\u001b[0m     \u001b[38;5;28;01mif\u001b[39;00m run_condition\u001b[38;5;241m.\u001b[39mblocking:\n\u001b[0;32m--> 339\u001b[0m         \u001b[38;5;28;43mself\u001b[39;49m\u001b[38;5;241;43m.\u001b[39;49m\u001b[43m_get_resp_for_run\u001b[49m\u001b[43m(\u001b[49m\u001b[43m)\u001b[49m\n\u001b[1;32m    340\u001b[0m \u001b[38;5;28;01melif\u001b[39;00m \u001b[38;5;28misinstance\u001b[39m(run_condition, RunContinuous):\n\u001b[1;32m    341\u001b[0m     \u001b[38;5;28mself\u001b[39m\u001b[38;5;241m.\u001b[39mnum_steps \u001b[38;5;241m=\u001b[39m sys\u001b[38;5;241m.\u001b[39mmaxsize\n",
      "File \u001b[0;32m~/miniconda3/envs/ratslam/src/lava/src/lava/magma/runtime/runtime.py:282\u001b[0m, in \u001b[0;36mRuntime._get_resp_for_run\u001b[0;34m(self)\u001b[0m\n\u001b[1;32m    280\u001b[0m rsps \u001b[38;5;241m=\u001b[39m []\n\u001b[1;32m    281\u001b[0m \u001b[38;5;28;01mwhile\u001b[39;00m \u001b[38;5;28;01mTrue\u001b[39;00m:\n\u001b[0;32m--> 282\u001b[0m     recv_port \u001b[38;5;241m=\u001b[39m \u001b[43mselector\u001b[49m\u001b[38;5;241;43m.\u001b[39;49m\u001b[43mselect\u001b[49m\u001b[43m(\u001b[49m\u001b[38;5;241;43m*\u001b[39;49m\u001b[43mchannel_actions\u001b[49m\u001b[43m)\u001b[49m\n\u001b[1;32m    283\u001b[0m     data \u001b[38;5;241m=\u001b[39m recv_port\u001b[38;5;241m.\u001b[39mrecv()\n\u001b[1;32m    284\u001b[0m     rsps\u001b[38;5;241m.\u001b[39mappend(data)\n",
      "File \u001b[0;32m~/miniconda3/envs/ratslam/src/lava/src/lava/magma/compiler/channels/pypychannel.py:319\u001b[0m, in \u001b[0;36mCspSelector.select\u001b[0;34m(self, *args)\u001b[0m\n\u001b[1;32m    317\u001b[0m         \u001b[38;5;28mself\u001b[39m\u001b[38;5;241m.\u001b[39m_set_observer(args, \u001b[38;5;28;01mNone\u001b[39;00m)\n\u001b[1;32m    318\u001b[0m         \u001b[38;5;28;01mreturn\u001b[39;00m action()\n\u001b[0;32m--> 319\u001b[0m \u001b[38;5;28;43mself\u001b[39;49m\u001b[38;5;241;43m.\u001b[39;49m\u001b[43m_cv\u001b[49m\u001b[38;5;241;43m.\u001b[39;49m\u001b[43mwait\u001b[49m\u001b[43m(\u001b[49m\u001b[43m)\u001b[49m\n",
      "File \u001b[0;32m~/miniconda3/envs/ratslam/lib/python3.10/threading.py:320\u001b[0m, in \u001b[0;36mCondition.wait\u001b[0;34m(self, timeout)\u001b[0m\n\u001b[1;32m    318\u001b[0m \u001b[38;5;28;01mtry\u001b[39;00m:    \u001b[38;5;66;03m# restore state no matter what (e.g., KeyboardInterrupt)\u001b[39;00m\n\u001b[1;32m    319\u001b[0m     \u001b[38;5;28;01mif\u001b[39;00m timeout \u001b[38;5;129;01mis\u001b[39;00m \u001b[38;5;28;01mNone\u001b[39;00m:\n\u001b[0;32m--> 320\u001b[0m         \u001b[43mwaiter\u001b[49m\u001b[38;5;241;43m.\u001b[39;49m\u001b[43macquire\u001b[49m\u001b[43m(\u001b[49m\u001b[43m)\u001b[49m\n\u001b[1;32m    321\u001b[0m         gotit \u001b[38;5;241m=\u001b[39m \u001b[38;5;28;01mTrue\u001b[39;00m\n\u001b[1;32m    322\u001b[0m     \u001b[38;5;28;01melse\u001b[39;00m:\n",
      "\u001b[0;31mKeyboardInterrupt\u001b[0m: "
     ]
    },
    {
     "name": "stderr",
     "output_type": "stream",
     "text": [
      "Traceback (most recent call last):\n",
      "  File \"/home/hiren/miniconda3/envs/ratslam/lib/python3.10/multiprocessing/process.py\", line 314, in _bootstrap\n",
      "    self.run()\n",
      "  File \"/home/hiren/miniconda3/envs/ratslam/lib/python3.10/multiprocessing/process.py\", line 314, in _bootstrap\n",
      "    self.run()\n",
      "  File \"/home/hiren/miniconda3/envs/ratslam/lib/python3.10/multiprocessing/process.py\", line 314, in _bootstrap\n",
      "    self.run()\n",
      "  File \"/home/hiren/miniconda3/envs/ratslam/lib/python3.10/multiprocessing/process.py\", line 314, in _bootstrap\n",
      "    self.run()\n",
      "  File \"/home/hiren/miniconda3/envs/ratslam/src/lava/src/lava/magma/runtime/message_infrastructure/multiprocessing.py\", line 56, in run\n",
      "    mp.Process.run(self)\n",
      "  File \"/home/hiren/miniconda3/envs/ratslam/lib/python3.10/multiprocessing/process.py\", line 314, in _bootstrap\n",
      "    self.run()\n",
      "  File \"/home/hiren/miniconda3/envs/ratslam/src/lava/src/lava/magma/runtime/message_infrastructure/multiprocessing.py\", line 56, in run\n",
      "    mp.Process.run(self)\n",
      "  File \"/home/hiren/miniconda3/envs/ratslam/src/lava/src/lava/magma/runtime/message_infrastructure/multiprocessing.py\", line 56, in run\n",
      "    mp.Process.run(self)\n",
      "  File \"/home/hiren/miniconda3/envs/ratslam/src/lava/src/lava/magma/runtime/message_infrastructure/multiprocessing.py\", line 56, in run\n",
      "    mp.Process.run(self)\n",
      "  File \"/home/hiren/miniconda3/envs/ratslam/lib/python3.10/multiprocessing/process.py\", line 108, in run\n",
      "    self._target(*self._args, **self._kwargs)\n",
      "  File \"/home/hiren/miniconda3/envs/ratslam/src/lava/src/lava/magma/runtime/message_infrastructure/multiprocessing.py\", line 56, in run\n",
      "    mp.Process.run(self)\n",
      "  File \"/home/hiren/miniconda3/envs/ratslam/src/lava/src/lava/magma/runtime/message_infrastructure/multiprocessing.py\", line 56, in run\n",
      "    mp.Process.run(self)\n",
      "  File \"/home/hiren/miniconda3/envs/ratslam/lib/python3.10/multiprocessing/process.py\", line 108, in run\n",
      "    self._target(*self._args, **self._kwargs)\n",
      "  File \"/home/hiren/miniconda3/envs/ratslam/lib/python3.10/multiprocessing/process.py\", line 108, in run\n",
      "    self._target(*self._args, **self._kwargs)\n",
      "  File \"/home/hiren/miniconda3/envs/ratslam/lib/python3.10/multiprocessing/process.py\", line 108, in run\n",
      "    self._target(*self._args, **self._kwargs)\n",
      "  File \"/home/hiren/miniconda3/envs/ratslam/lib/python3.10/multiprocessing/process.py\", line 108, in run\n",
      "    self._target(*self._args, **self._kwargs)\n",
      "  File \"/home/hiren/miniconda3/envs/ratslam/src/lava/src/lava/magma/runtime/runtime.py\", line 96, in target_fn\n",
      "    actor.start(*args, **kwargs)\n",
      "  File \"/home/hiren/miniconda3/envs/ratslam/lib/python3.10/multiprocessing/process.py\", line 108, in run\n",
      "    self._target(*self._args, **self._kwargs)\n",
      "  File \"/home/hiren/miniconda3/envs/ratslam/src/lava/src/lava/magma/runtime/runtime.py\", line 96, in target_fn\n",
      "    actor.start(*args, **kwargs)\n",
      "  File \"/home/hiren/miniconda3/envs/ratslam/src/lava/src/lava/magma/runtime/runtime.py\", line 96, in target_fn\n",
      "    actor.start(*args, **kwargs)\n",
      "  File \"/home/hiren/miniconda3/envs/ratslam/src/lava/src/lava/magma/runtime/runtime.py\", line 96, in target_fn\n",
      "    actor.start(*args, **kwargs)\n",
      "  File \"/home/hiren/miniconda3/envs/ratslam/src/lava/src/lava/magma/core/model/py/model.py\", line 92, in start\n",
      "    self.run()\n",
      "  File \"/home/hiren/miniconda3/envs/ratslam/src/lava/src/lava/magma/runtime/runtime.py\", line 96, in target_fn\n",
      "    actor.start(*args, **kwargs)\n",
      "  File \"/home/hiren/miniconda3/envs/ratslam/src/lava/src/lava/magma/runtime/runtime.py\", line 96, in target_fn\n",
      "    actor.start(*args, **kwargs)\n",
      "  File \"/home/hiren/miniconda3/envs/ratslam/src/lava/src/lava/magma/runtime/runtime_services/runtime_service.py\", line 74, in start\n",
      "    self.run()\n",
      "  File \"/home/hiren/miniconda3/envs/ratslam/src/lava/src/lava/magma/core/model/py/model.py\", line 92, in start\n",
      "    self.run()\n",
      "  File \"/home/hiren/miniconda3/envs/ratslam/src/lava/src/lava/magma/core/model/py/model.py\", line 92, in start\n",
      "    self.run()\n",
      "  File \"/home/hiren/miniconda3/envs/ratslam/src/lava/src/lava/magma/core/model/py/model.py\", line 219, in run\n",
      "    self._action = self._selector.select(*self._channel_actions)\n",
      "  File \"/home/hiren/miniconda3/envs/ratslam/src/lava/src/lava/magma/core/model/py/model.py\", line 92, in start\n",
      "    self.run()\n",
      "  File \"/home/hiren/miniconda3/envs/ratslam/src/lava/src/lava/magma/core/model/py/model.py\", line 92, in start\n",
      "    self.run()\n",
      "  File \"/home/hiren/miniconda3/envs/ratslam/src/lava/src/lava/magma/runtime/runtime_services/runtime_service.py\", line 359, in run\n",
      "    self._get_pm_resp()\n",
      "  File \"/home/hiren/miniconda3/envs/ratslam/src/lava/src/lava/magma/core/model/py/model.py\", line 219, in run\n",
      "    self._action = self._selector.select(*self._channel_actions)\n",
      "  File \"/home/hiren/miniconda3/envs/ratslam/src/lava/src/lava/magma/core/model/py/model.py\", line 219, in run\n",
      "    self._action = self._selector.select(*self._channel_actions)\n",
      "  File \"/home/hiren/miniconda3/envs/ratslam/src/lava/src/lava/magma/compiler/channels/pypychannel.py\", line 319, in select\n",
      "    self._cv.wait()\n",
      "  File \"/home/hiren/miniconda3/envs/ratslam/src/lava/src/lava/magma/core/model/py/model.py\", line 199, in run\n",
      "    self._cmd_handlers[cmd]()\n",
      "  File \"/home/hiren/miniconda3/envs/ratslam/src/lava/src/lava/magma/core/model/py/model.py\", line 199, in run\n",
      "    self._cmd_handlers[cmd]()\n",
      "  File \"/home/hiren/miniconda3/envs/ratslam/src/lava/src/lava/magma/runtime/runtime_services/runtime_service.py\", line 229, in _get_pm_resp\n",
      "    rcv_msgs.append(ptos_recv_port.recv())\n",
      "  File \"/home/hiren/miniconda3/envs/ratslam/src/lava/src/lava/magma/compiler/channels/pypychannel.py\", line 319, in select\n",
      "    self._cv.wait()\n",
      "  File \"/home/hiren/miniconda3/envs/ratslam/src/lava/src/lava/magma/compiler/channels/pypychannel.py\", line 319, in select\n",
      "    self._cv.wait()\n",
      "  File \"/home/hiren/miniconda3/envs/ratslam/src/lava/src/lava/magma/core/model/py/model.py\", line 409, in _post_mgmt\n",
      "    self.run_post_mgmt()\n",
      "  File \"/home/hiren/miniconda3/envs/ratslam/lib/python3.10/threading.py\", line 320, in wait\n",
      "    waiter.acquire()\n",
      "  File \"/home/hiren/miniconda3/envs/ratslam/src/lava/src/lava/magma/core/model/py/model.py\", line 409, in _post_mgmt\n",
      "    self.run_post_mgmt()\n",
      "  File \"/home/hiren/miniconda3/envs/ratslam/lib/python3.10/threading.py\", line 320, in wait\n",
      "    waiter.acquire()\n",
      "  File \"/home/hiren/Documents/VIP/rg-slam/./src/ratslam/experience_map.py\", line 155, in run_post_mgmt\n",
      "    view_cell = self.cell_in.recv()\n",
      "KeyboardInterrupt\n",
      "  File \"/home/hiren/miniconda3/envs/ratslam/src/lava/src/lava/magma/compiler/channels/pypychannel.py\", line 274, in recv\n",
      "    self._queue.get()\n",
      "  File \"/home/hiren/miniconda3/envs/ratslam/lib/python3.10/threading.py\", line 320, in wait\n",
      "    waiter.acquire()\n",
      "  File \"/home/hiren/Documents/VIP/rg-slam/./src/ratslam/pose_cells.py\", line 111, in run_post_mgmt\n",
      "    view_cell = self.cell_in.recv()\n",
      "KeyboardInterrupt\n",
      "  File \"/home/hiren/miniconda3/envs/ratslam/src/lava/src/lava/magma/core/model/py/ports.py\", line 347, in recv\n",
      "    return ft.reduce(\n",
      "KeyboardInterrupt\n",
      "  File \"/home/hiren/miniconda3/envs/ratslam/src/lava/src/lava/magma/compiler/channels/pypychannel.py\", line 153, in get\n",
      "    self.not_empty.wait()\n",
      "  File \"/home/hiren/miniconda3/envs/ratslam/src/lava/src/lava/magma/core/model/py/ports.py\", line 347, in recv\n",
      "    return ft.reduce(\n",
      "  File \"/home/hiren/miniconda3/envs/ratslam/src/lava/src/lava/magma/core/model/py/ports.py\", line 348, in <lambda>\n",
      "    lambda acc, port: acc + self._transformer.transform(port.recv(),\n",
      "  File \"/home/hiren/miniconda3/envs/ratslam/lib/python3.10/threading.py\", line 320, in wait\n",
      "    waiter.acquire()\n",
      "  File \"/home/hiren/miniconda3/envs/ratslam/src/lava/src/lava/magma/core/model/py/ports.py\", line 348, in <lambda>\n",
      "    lambda acc, port: acc + self._transformer.transform(port.recv(),\n",
      "  File \"/home/hiren/miniconda3/envs/ratslam/src/lava/src/lava/magma/compiler/channels/pypychannel.py\", line 274, in recv\n",
      "    self._queue.get()\n",
      "KeyboardInterrupt\n",
      "  File \"/home/hiren/miniconda3/envs/ratslam/src/lava/src/lava/magma/compiler/channels/pypychannel.py\", line 153, in get\n",
      "    self.not_empty.wait()\n",
      "  File \"/home/hiren/miniconda3/envs/ratslam/src/lava/src/lava/magma/compiler/channels/pypychannel.py\", line 274, in recv\n",
      "    self._queue.get()\n",
      "  File \"/home/hiren/miniconda3/envs/ratslam/lib/python3.10/threading.py\", line 320, in wait\n",
      "    waiter.acquire()\n"
     ]
    },
    {
     "name": "stderr",
     "output_type": "stream",
     "text": [
      "  File \"/home/hiren/miniconda3/envs/ratslam/src/lava/src/lava/magma/compiler/channels/pypychannel.py\", line 153, in get\n",
      "    self.not_empty.wait()\n",
      "KeyboardInterrupt\n",
      "  File \"/home/hiren/miniconda3/envs/ratslam/lib/python3.10/threading.py\", line 320, in wait\n",
      "    waiter.acquire()\n",
      "KeyboardInterrupt\n"
     ]
    }
   ],
   "source": [
    "from lava.magma.core.run_conditions import RunSteps, RunContinuous\n",
    "from lava.magma.core.run_configs import Loihi1SimCfg\n",
    "\n",
    "run_cfg = Loihi1SimCfg(select_tag=\"floating_pt\")\n",
    "run_condition = RunSteps(num_steps=8000)\n",
    "\n",
    "image_generator.run(condition=run_condition, run_cfg=run_cfg)"
   ]
  },
  {
   "cell_type": "code",
   "execution_count": null,
   "metadata": {},
   "outputs": [],
   "source": []
  },
  {
   "cell_type": "code",
   "execution_count": null,
   "metadata": {},
   "outputs": [],
   "source": []
  },
  {
   "cell_type": "code",
   "execution_count": null,
   "metadata": {},
   "outputs": [],
   "source": []
  }
 ],
 "metadata": {
  "kernelspec": {
   "display_name": "Python 3 (ipykernel)",
   "language": "python",
   "name": "python3"
  },
  "language_info": {
   "codemirror_mode": {
    "name": "ipython",
    "version": 3
   },
   "file_extension": ".py",
   "mimetype": "text/x-python",
   "name": "python",
   "nbconvert_exporter": "python",
   "pygments_lexer": "ipython3",
   "version": "3.10.10"
  },
  "vscode": {
   "interpreter": {
    "hash": "4d88adc647c295d081e2678c7d6a34d95b7c599dd2c23c84a9cb96d04d7ad4df"
   }
  }
 },
 "nbformat": 4,
 "nbformat_minor": 2
}
